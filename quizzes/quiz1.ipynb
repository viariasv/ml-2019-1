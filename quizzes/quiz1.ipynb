{
 "cells": [
  {
   "cell_type": "markdown",
   "metadata": {
    "collapsed": false
   },
   "source": [
    "# Quiz 1\n",
    "# Machine Learning 2019-1\n",
    "Keep saving your notebook to guarantee that you don't lose your work. Whenever the end of the exam is announced save the current version. \n",
    "\n",
    "---\n",
    "\n",
    "## 1. (1.5)\n",
    "\n",
    "Write a function that receives $P(X|Y)$ and $P(Y)$ and returns $P(X)$\n"
   ]
  },
  {
   "cell_type": "code",
   "execution_count": 4,
   "metadata": {
    "collapsed": false
   },
   "outputs": [
   ],
   "source": [
    "import numpy as np\n",
    "def p1(PX_Y, PY):\n",
    "    '''\n",
    "    PX_Y: a numpy array where PX_Y[i, j] = P(X=i | Y=j) \n",
    "    PY:  a numpy array where PY[j] = P(Y=j) \n",
    "    \n",
    "    Returns:\n",
    "    A numpy array PX[i] = P(X=i) \n",
    "    '''\n",
    "    # Your code here\n",
    "    # calculate the joint probability\n",
    "    P_JXY = PX_Y * PY\n",
    "    # then marginalize\n",
    "    print\n",
    "    PX = P_JXY[:, :].sum(axis=1)\n",
    "    return PX"
   ]
  },
  {
   "cell_type": "code",
   "execution_count": 5,
   "metadata": {
    "collapsed": false
   },
   "outputs": [
    {
     "data": {
      "text/plain": [
       "array([0.20147335, 0.24714404, 0.21685864, 0.33452395])"
      ]
     },
     "execution_count": 5,
     "metadata": {
     },
     "output_type": "execute_result"
    }
   ],
   "source": [
    "PX_Y = np.array([[ 0.2230561 ,  0.18331207,  0.17959623,  0.01028998,  0.33943926],\n",
    "                 [ 0.49471559,  0.11828343,  0.67633346,  0.09622812,  0.09313655],\n",
    "                 [ 0.05586699,  0.17283669,  0.02797027,  0.5056821 ,  0.21389908],\n",
    "                 [ 0.22636132,  0.52556781,  0.11610004,  0.38779981,  0.3535251 ]])\n",
    "PY = np.array([ 0.15648844, 0.16707432, 0.14798776, 0.21271086, 0.31573861])\n",
    "p1(PX_Y, PY)"
   ]
  },
  {
   "cell_type": "markdown",
   "metadata": {
    "collapsed": false
   },
   "source": [
    "## 2. (1.5)\n",
    "Assume that $X$ is a random variable that takes values in the set $\\{0,1, \\dots, n-1\\}$. \n",
    "Write a function that receives $P(X)$ and calculates $E[X^2]$\n"
   ]
  },
  {
   "cell_type": "code",
   "execution_count": 6,
   "metadata": {
    "collapsed": false
   },
   "outputs": [
   ],
   "source": [
    "def p2(PX):\n",
    "    '''\n",
    "    PX: a numpy array where PX[i] = P(X=i)  \n",
    "    \n",
    "    Returns:\n",
    "        E[Xˆ2]\n",
    "    '''\n",
    "    X  = np.array([i for i in range(len(PX))])\n",
    "    E = np.sum(PX * np.square(X))\n",
    "    return E"
   ]
  },
  {
   "cell_type": "code",
   "execution_count": 7,
   "metadata": {
    "collapsed": false
   },
   "outputs": [
    {
     "name": "stdout",
     "output_type": "stream",
     "text": [
      "2.8466932099999998\n"
     ]
    }
   ],
   "source": [
    "PX = np.array([ 0.41199149,  0.29315473,  0.06252909,  0.20196756,  0.03035713])\n",
    "print(p2(PX))"
   ]
  },
  {
   "cell_type": "markdown",
   "metadata": {
    "collapsed": false
   },
   "source": [
    "## 3. (2.0)\n",
    "A player tosses 5 coins into the air. The player gains \\$1 dollar per each head that is obtained. However, she will lose $B$ dollars if neither coin is a head. Write a function that given $p_0$, the probability of obtaining a head, calculates the maximum value of $B$ such that the game is not disfavorable for the player."
   ]
  },
  {
   "cell_type": "code",
   "execution_count": 104,
   "metadata": {
    "collapsed": false
   },
   "outputs": [
   ],
   "source": [
    "def p3(p0):\n",
    "    '''\n",
    "    A: number of dollars that the player receives per each head.\n",
    "    \n",
    "    returns:\n",
    "    max_B: maximum value of B such that the game is not disfavorable for the player.\n",
    "    '''\n",
    "    prob = {0:0, 1:0,2:0,3:0,4:0,5:0}\n",
    "    # Your code here\n",
    "    for i in range(2):\n",
    "        for j in range(2):\n",
    "            for k in range(2):\n",
    "                for l in range(2):\n",
    "                    for m in range(2):\n",
    "                        n = i  + j + k + l + m\n",
    "                        prob[n] += p0 ** n + (1-p0) ** (1-n)\n",
    " \n",
    "    gains = np.dot(np.arange(0, 6), list(prob.values()))\n",
    "    return gains / prob[0]"
   ]
  },
  {
   "cell_type": "code",
   "execution_count": 105,
   "metadata": {
    "collapsed": false
   },
   "outputs": [
   ],
   "source": [
    "def compare(vect1, vect2, error):\n",
    "    if np.linalg.norm(vect1 - vect2) > error:\n",
    "            return False\n",
    "    return True\n",
    "\n",
    "\n",
    "def test1():\n",
    "    px_y = np.array([[ 0.3769328 ,  0.39650515,  0.4314626 ,  0.20626247,  0.1349948 ],\n",
    "        [ 0.12649237,  0.19220829,  0.09108101,  0.10448629,  0.08759632],\n",
    "        [ 0.12301515,  0.34139388,  0.03945878,  0.28113402,  0.55014867],\n",
    "        [ 0.37355968,  0.06989268,  0.4379976 ,  0.40811723,  0.22726021]])\n",
    "    py = np.array([ 0.21039932,  0.22645292,  0.17677909,  0.20736691,  0.17900176])\n",
    "    v1 = np.array([ 0.31230604,  0.12358815,  0.2669429 ,  0.29716291])\n",
    "    v2 = p1(px_y, py)\n",
    "    return compare(v1, v2, 0.00001)\n",
    "\n",
    "def test2():\n",
    "    px = np.array([ 0.01720472,  0.23565573,  0.7425048 ,  0.68060143,  0.25665851])\n",
    "    res = 13.437623957331406\n",
    "    ans = p2(px)\n",
    "    return (abs(res-ans) < 0.00001)\n",
    "\n",
    "def test3():\n",
    "    p0 = 0.7\n",
    "    res = 1440.3292181069949\n",
    "    ans = p3(p0)\n",
    "    return (abs(res-ans) < 0.00001)"
   ]
  },
  {
   "cell_type": "code",
   "execution_count": 106,
   "metadata": {
    "collapsed": false
   },
   "outputs": [
    {
     "data": {
      "text/plain": [
       "True"
      ]
     },
     "execution_count": 106,
     "metadata": {
     },
     "output_type": "execute_result"
    }
   ],
   "source": [
    "test1()"
   ]
  },
  {
   "cell_type": "code",
   "execution_count": 107,
   "metadata": {
    "collapsed": false
   },
   "outputs": [
    {
     "data": {
      "text/plain": [
       "True"
      ]
     },
     "execution_count": 107,
     "metadata": {
     },
     "output_type": "execute_result"
    }
   ],
   "source": [
    "test2()"
   ]
  },
  {
   "cell_type": "code",
   "execution_count": 108,
   "metadata": {
    "collapsed": false
   },
   "outputs": [
    {
     "data": {
      "text/plain": [
       "False"
      ]
     },
     "execution_count": 108,
     "metadata": {
     },
     "output_type": "execute_result"
    }
   ],
   "source": [
    "test3()"
   ]
  },
  {
   "cell_type": "code",
   "execution_count": 0,
   "metadata": {
    "collapsed": false
   },
   "outputs": [
   ],
   "source": [
   ]
  }
 ],
 "metadata": {
  "kernelspec": {
   "display_name": "Python 3 (Ubuntu Linux)",
   "language": "python",
   "metadata": {
    "cocalc": {
     "description": "Python 3 programming language",
     "priority": 100,
     "url": "https://www.python.org/"
    }
   },
   "name": "python3"
  },
  "language_info": {
   "codemirror_mode": {
    "name": "ipython",
    "version": 3
   },
   "file_extension": ".py",
   "mimetype": "text/x-python",
   "name": "python",
   "nbconvert_exporter": "python",
   "pygments_lexer": "ipython3",
   "version": "3.6.7"
  }
 },
 "nbformat": 4,
 "nbformat_minor": 0
}