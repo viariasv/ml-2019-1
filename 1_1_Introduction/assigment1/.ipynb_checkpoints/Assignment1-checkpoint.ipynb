{
 "cells": [
  {
   "cell_type": "markdown",
   "metadata": {},
   "source": [
    "<h1> Assigment 1 </h1>\n",
    "\n",
    "$D = \\{d_{1},\\dots, d_{n}\\} =>$  Set of documents\n",
    "\n",
    "$T = \\{t_{1},\\dots, t_{m}\\} =>$ Set of terms (words)\n",
    "\n",
    "$$TD = (TD_{i,j})_{i =1\\dots m,  j=1\\dots n}$$\n",
    "\n",
    "be a matrix such that $TD_{i,j}$ corresponds to the number of times the term $t_{i}$ appears in the document $d_{j}$.\n",
    "\n",
    "$$L = (l_{1}, \\dots, l_{m})$$\n",
    "\n",
    "let $l_{i}$ be the length, number of characters, of term $t_{i}$."
   ]
  },
  {
   "cell_type": "markdown",
   "metadata": {},
   "source": [
    "<h2> Objetices </h2>\n",
    "\n",
    "* a mathematical expression to calculate it that includes T D, L, constants (scalars, vectors or matrices) and linear algebra operations.\n",
    "\n",
    "\n",
    "* a expression in [Numpy](http://www.scipy.org) that, when evaluated, generates the requested matrix, vector or scalar (the expression must be a linear algebra expression that does not involve control structures such as for, while etc.)\n",
    "\n",
    "* the result of evaluating the expression, assuming:\n",
    "\n",
    "$$ TD = \\begin{bmatrix}\n",
    "    2 & 3 & 0 & 3 & 7 \\\\\n",
    "    0 & 5 & 5 & 0 & 3 \\\\\n",
    "    5 & 0 & 7 & 3 & 3 \\\\\n",
    "    3 & 1 & 0 & 9 & 9 \\\\\n",
    "    0 & 0 & 7 & 1 & 3 \\\\\n",
    "    6 & 9 & 4 & 6 & 0 \\\\\n",
    "\\end{bmatrix} L = \\begin{bmatrix}\n",
    "    5 \\\\\n",
    "    2 \\\\\n",
    "    3 \\\\\n",
    "    6\\\\\n",
    "    4 \\\\\n",
    "    3\\\\\n",
    "\\end{bmatrix}$$"
   ]
  },
  {
   "cell_type": "markdown",
   "metadata": {},
   "source": [
    "Finally, assume a process where a document $d_{j}$ is randomly chosen with uniform probability and then a term $t_{i}$, present in $d_{j}$, is randomly chosen with a probability proportional to the frequency of $t_{i}$ in $d_{j}$."
   ]
  },
  {
   "cell_type": "markdown",
   "metadata": {},
   "source": [
    "<h2>1. Matrix $P(T, D)$ (each position of the matrix, $P(T, D)_{i,j}$, corresponds to the joint probability of term $t_{i}$ and document $d_{j}$, $P(t_{i}, d_{j}))$</h2>"
   ]
  },
  {
   "cell_type": "code",
   "execution_count": 4,
   "metadata": {},
   "outputs": [
    {
     "name": "stdout",
     "output_type": "stream",
     "text": [
      "[[2 3 0 3 7]\n",
      " [0 5 5 0 3]\n",
      " [5 0 7 3 3]\n",
      " [3 1 0 9 9]\n",
      " [0 0 7 1 3]\n",
      " [6 9 4 6 0]]\n",
      "[[5]\n",
      " [2]\n",
      " [3]\n",
      " [6]\n",
      " [4]\n",
      " [3]]\n"
     ]
    }
   ],
   "source": [
    "import numpy as np\n",
    "\n",
    "TD = np.array([[2,3,0,3,7], [0,5,5,0,3], [5,0,7,3,3], [3,1,0,9,9], [0,0,7,1,3], [6,9,4,6,0]])\n",
    "L = np.array([[5], [2], [3], [6], [4], [3]])\n",
    "print(TD)\n",
    "print(L)"
   ]
  },
  {
   "cell_type": "code",
   "execution_count": 9,
   "metadata": {},
   "outputs": [
    {
     "name": "stdout",
     "output_type": "stream",
     "text": [
      "The conditional probability P(T|D) is equal to:\n",
      "[[0.125      0.16666667 0.         0.13636364 0.28      ]\n",
      " [0.         0.27777778 0.2173913  0.         0.12      ]\n",
      " [0.3125     0.         0.30434783 0.13636364 0.12      ]\n",
      " [0.1875     0.05555556 0.         0.40909091 0.36      ]\n",
      " [0.         0.         0.30434783 0.04545455 0.12      ]\n",
      " [0.375      0.5        0.17391304 0.27272727 0.        ]]\n"
     ]
    }
   ],
   "source": [
    "P_CONDTD = TD / TD[:, :].sum(axis=0)\n",
    "print(\"The conditional probability P(T|D) is equal to:\")\n",
    "print(P_CONDTD)"
   ]
  },
  {
   "cell_type": "code",
   "execution_count": 22,
   "metadata": {},
   "outputs": [
    {
     "name": "stdout",
     "output_type": "stream",
     "text": [
      "The joint probability P(T|D) is equal to:\n",
      "[[0.025      0.03333333 0.         0.02727273 0.056     ]\n",
      " [0.         0.05555556 0.04347826 0.         0.024     ]\n",
      " [0.0625     0.         0.06086957 0.02727273 0.024     ]\n",
      " [0.0375     0.01111111 0.         0.08181818 0.072     ]\n",
      " [0.         0.         0.06086957 0.00909091 0.024     ]\n",
      " [0.075      0.1        0.03478261 0.05454545 0.        ]]\n"
     ]
    }
   ],
   "source": [
    "P_D = 1. / (np.shape(TD[:, :].sum(axis=0))[0])\n",
    "P_JOINTD = P_CONDTD * P_D\n",
    "print(\"The joint probability P(T|D) is equal to:\")\n",
    "print(P_JOINTD)"
   ]
  },
  {
   "cell_type": "markdown",
   "metadata": {},
   "source": [
    "<h2>2. Matrix $P(T|D)$</h2>"
   ]
  },
  {
   "cell_type": "code",
   "execution_count": 13,
   "metadata": {},
   "outputs": [
    {
     "name": "stdout",
     "output_type": "stream",
     "text": [
      "The conditional probability P(T|D) is equal to:\n",
      "[[0.125      0.16666667 0.         0.13636364 0.28      ]\n",
      " [0.         0.27777778 0.2173913  0.         0.12      ]\n",
      " [0.3125     0.         0.30434783 0.13636364 0.12      ]\n",
      " [0.1875     0.05555556 0.         0.40909091 0.36      ]\n",
      " [0.         0.         0.30434783 0.04545455 0.12      ]\n",
      " [0.375      0.5        0.17391304 0.27272727 0.        ]]\n"
     ]
    }
   ],
   "source": [
    "print(\"The conditional probability P(T|D) is equal to:\")\n",
    "print(P_CONDTD)"
   ]
  },
  {
   "cell_type": "markdown",
   "metadata": {},
   "source": [
    "<h2>3. Matrix $P(D|T)$</h2>"
   ]
  },
  {
   "cell_type": "code",
   "execution_count": 19,
   "metadata": {},
   "outputs": [
    {
     "name": "stdout",
     "output_type": "stream",
     "text": [
      "The conditional probability P(D|T) is equal to:\n",
      "[[0.17654612 0.         0.35787437 0.18524987 0.         0.28373832]\n",
      " [0.23539482 0.45154704 0.         0.05488885 0.         0.37831776]\n",
      " [0.         0.35338464 0.34853851 0.         0.64782097 0.13158879]\n",
      " [0.19259576 0.         0.15616336 0.40418153 0.09675248 0.20635514]\n",
      " [0.3954633  0.19506832 0.13742376 0.35567975 0.25542655 0.        ]]\n"
     ]
    }
   ],
   "source": [
    "P_T = P_JOINTD[:, :].sum(axis=1)\n",
    "P_CONDT = P_JOINTD.transpose() / P_T\n",
    "print(\"The conditional probability P(D|T) is equal to:\")\n",
    "print(P_CONDT)"
   ]
  },
  {
   "cell_type": "markdown",
   "metadata": {},
   "source": [
    "<h2>4. Matrix $P(D)$</h2>"
   ]
  },
  {
   "cell_type": "code",
   "execution_count": 33,
   "metadata": {},
   "outputs": [
    {
     "name": "stdout",
     "output_type": "stream",
     "text": [
      "The probability distribution P(D) is equal to:\n",
      "[0.2 0.2 0.2 0.2 0.2]\n"
     ]
    }
   ],
   "source": [
    "print(\"The probability distribution P(D) is equal to:\")\n",
    "print(np.ones(np.shape(TD[:, :].sum(axis=0))[0]) * P_D)"
   ]
  },
  {
   "cell_type": "markdown",
   "metadata": {},
   "source": [
    "<h2>5. Matrix $P(T)$</h2>"
   ]
  },
  {
   "cell_type": "code",
   "execution_count": 31,
   "metadata": {},
   "outputs": [
    {
     "name": "stdout",
     "output_type": "stream",
     "text": [
      "The probability distribution P(T) is equal to:\n",
      "[0.14160606 0.12303382 0.17464229 0.20242929 0.09396047 0.26432806]\n"
     ]
    }
   ],
   "source": [
    "print(\"The probability distribution P(T) is equal to:\")\n",
    "print(P_T)"
   ]
  },
  {
   "cell_type": "markdown",
   "metadata": {},
   "source": [
    "<h2>6. $E[l]$ (the expected value of the random variable l corresponding to the length of a randomly chosen term)</h2>"
   ]
  },
  {
   "cell_type": "code",
   "execution_count": 35,
   "metadata": {},
   "outputs": [
    {
     "name": "stdout",
     "output_type": "stream",
     "text": [
      "The probability distribution P(L) is equal to:\n",
      "[[0.2173913 ]\n",
      " [0.08695652]\n",
      " [0.13043478]\n",
      " [0.26086957]\n",
      " [0.17391304]\n",
      " [0.13043478]]\n"
     ]
    }
   ],
   "source": [
    "PL = L / np.sum(L)\n",
    "print(\"The probability distribution P(L) is equal to:\")\n",
    "print(PL)"
   ]
  },
  {
   "cell_type": "code",
   "execution_count": 37,
   "metadata": {},
   "outputs": [
    {
     "name": "stdout",
     "output_type": "stream",
     "text": [
      "The expected value of  L is equal to:\n",
      "4.304347826086956\n"
     ]
    }
   ],
   "source": [
    "EL = np.sum(PL * L)\n",
    "print(\"The expected value of  L is equal to:\")\n",
    "print(EL)"
   ]
  },
  {
   "cell_type": "markdown",
   "metadata": {},
   "source": [
    "<h2>$Var(l)$ (the variance of $l$)</h2>"
   ]
  },
  {
   "cell_type": "code",
   "execution_count": 42,
   "metadata": {},
   "outputs": [
    {
     "name": "stdout",
     "output_type": "stream",
     "text": [
      "The variance of  L is equal to:\n",
      "1.7769376181474534\n"
     ]
    }
   ],
   "source": [
    "E_L2 = np.sum(PL * np.square(L) )\n",
    "\n",
    "VAR_L = E_L2 - (EL ** 2)\n",
    "print(\"The variance of  L is equal to:\")\n",
    "print(VAR_L)"
   ]
  }
 ],
 "metadata": {
  "kernelspec": {
   "display_name": "Python 3",
   "language": "python",
   "name": "python3"
  },
  "language_info": {
   "codemirror_mode": {
    "name": "ipython",
    "version": 3
   },
   "file_extension": ".py",
   "mimetype": "text/x-python",
   "name": "python",
   "nbconvert_exporter": "python",
   "pygments_lexer": "ipython3",
   "version": "3.7.1"
  }
 },
 "nbformat": 4,
 "nbformat_minor": 2
}
