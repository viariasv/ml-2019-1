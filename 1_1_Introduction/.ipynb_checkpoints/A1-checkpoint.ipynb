{
 "cells": [
  {
   "cell_type": "code",
   "execution_count": 1,
   "metadata": {},
   "outputs": [],
   "source": [
    "import numpy as np"
   ]
  },
  {
   "cell_type": "code",
   "execution_count": 2,
   "metadata": {},
   "outputs": [
    {
     "data": {
      "text/plain": [
       "([[2, 3, 0, 3, 7],\n",
       "  [0, 5, 5, 0, 3],\n",
       "  [5, 0, 7, 3, 3],\n",
       "  [3, 1, 0, 9, 9],\n",
       "  [0, 0, 7, 1, 3],\n",
       "  [6, 9, 4, 6, 0]],\n",
       " [[5], [2], [3], [6], [4], [3]])"
      ]
     },
     "execution_count": 2,
     "metadata": {},
     "output_type": "execute_result"
    }
   ],
   "source": [
    "TD = [[2, 3, 0, 3, 7], [0, 5, 5, 0, 3], [5, 0, 7, 3, 3], [3, 1, 0, 9, 9], [0, 0, 7, 1, 3], [6, 9, 4, 6, 0]]\n",
    "L = [[5],[2],[3],[6],[4],[3]]\n",
    "TD, L"
   ]
  },
  {
   "cell_type": "code",
   "execution_count": 3,
   "metadata": {},
   "outputs": [],
   "source": [
    "TD_a = np.asarray(TD)\n",
    "L_a = np.asarray(L)"
   ]
  },
  {
   "cell_type": "markdown",
   "metadata": {},
   "source": [
    "# Point B\n",
    "Matrix $P(T|D)$"
   ]
  },
  {
   "cell_type": "code",
   "execution_count": 4,
   "metadata": {},
   "outputs": [
    {
     "name": "stdout",
     "output_type": "stream",
     "text": [
      "Tamaño de matriz TD:  (6, 5)\n"
     ]
    },
    {
     "data": {
      "text/plain": [
       "array([16, 18, 23, 22, 25])"
      ]
     },
     "execution_count": 4,
     "metadata": {},
     "output_type": "execute_result"
    }
   ],
   "source": [
    "print('Tamaño de matriz TD: ', TD_a.shape)\n",
    "tot_col = TD_a.sum(axis=0); tot_col"
   ]
  },
  {
   "cell_type": "code",
   "execution_count": 5,
   "metadata": {},
   "outputs": [
    {
     "data": {
      "text/plain": [
       "array([[0.125     , 0.16666667, 0.        , 0.13636364, 0.28      ],\n",
       "       [0.        , 0.27777778, 0.2173913 , 0.        , 0.12      ],\n",
       "       [0.3125    , 0.        , 0.30434783, 0.13636364, 0.12      ],\n",
       "       [0.1875    , 0.05555556, 0.        , 0.40909091, 0.36      ],\n",
       "       [0.        , 0.        , 0.30434783, 0.04545455, 0.12      ],\n",
       "       [0.375     , 0.5       , 0.17391304, 0.27272727, 0.        ]])"
      ]
     },
     "execution_count": 5,
     "metadata": {},
     "output_type": "execute_result"
    }
   ],
   "source": [
    "P_TD = TD_a/tot_col; P_TD"
   ]
  },
  {
   "cell_type": "markdown",
   "metadata": {},
   "source": [
    "# Point A\n",
    "Matrix $P(T,D)$ (each position of the matrix, $P(T,D)i,j$ , corresponds to the joint probability of term ti and document dj , $P(ti,dj))$"
   ]
  },
  {
   "cell_type": "code",
   "execution_count": 6,
   "metadata": {},
   "outputs": [
    {
     "data": {
      "text/plain": [
       "array([[0.025     , 0.03333333, 0.        , 0.02727273, 0.056     ],\n",
       "       [0.        , 0.05555556, 0.04347826, 0.        , 0.024     ],\n",
       "       [0.0625    , 0.        , 0.06086957, 0.02727273, 0.024     ],\n",
       "       [0.0375    , 0.01111111, 0.        , 0.08181818, 0.072     ],\n",
       "       [0.        , 0.        , 0.06086957, 0.00909091, 0.024     ],\n",
       "       [0.075     , 0.1       , 0.03478261, 0.05454545, 0.        ]])"
      ]
     },
     "execution_count": 6,
     "metadata": {},
     "output_type": "execute_result"
    }
   ],
   "source": [
    "J_PTD = P_TD/len(tot_col); J_PTD"
   ]
  },
  {
   "cell_type": "markdown",
   "metadata": {},
   "source": [
    "# Point C\n",
    "Matrix $P(D|T)$"
   ]
  },
  {
   "cell_type": "code",
   "execution_count": 7,
   "metadata": {},
   "outputs": [
    {
     "data": {
      "text/plain": [
       "(array([0.14160606, 0.12303382, 0.17464229, 0.20242929, 0.09396047,\n",
       "        0.26432806]), (6,))"
      ]
     },
     "execution_count": 7,
     "metadata": {},
     "output_type": "execute_result"
    }
   ],
   "source": [
    "n_row = J_PTD.sum(axis=1); n_row, n_row.shape"
   ]
  },
  {
   "cell_type": "code",
   "execution_count": 8,
   "metadata": {},
   "outputs": [
    {
     "data": {
      "text/plain": [
       "(array([[0.17654612, 0.23539482, 0.        , 0.19259576, 0.3954633 ],\n",
       "        [0.        , 0.45154704, 0.35338464, 0.        , 0.19506832],\n",
       "        [0.35787437, 0.        , 0.34853851, 0.15616336, 0.13742376],\n",
       "        [0.18524987, 0.05488885, 0.        , 0.40418153, 0.35567975],\n",
       "        [0.        , 0.        , 0.64782097, 0.09675248, 0.25542655],\n",
       "        [0.28373832, 0.37831776, 0.13158879, 0.20635514, 0.        ]]),\n",
       " array([1., 1., 1., 1., 1., 1.]))"
      ]
     },
     "execution_count": 8,
     "metadata": {},
     "output_type": "execute_result"
    }
   ],
   "source": [
    "N_mDT = (J_PTD.T / n_row).T\n",
    "verif_1 = N_mDT.sum(axis=1)\n",
    "N_mDT, verif_1"
   ]
  },
  {
   "cell_type": "markdown",
   "metadata": {},
   "source": [
    "# Point D\n",
    "Vector $P(D)$"
   ]
  },
  {
   "cell_type": "code",
   "execution_count": 9,
   "metadata": {},
   "outputs": [
    {
     "data": {
      "text/plain": [
       "array([0.2, 0.2, 0.2, 0.2, 0.2])"
      ]
     },
     "execution_count": 9,
     "metadata": {},
     "output_type": "execute_result"
    }
   ],
   "source": [
    "v_pd = J_PTD.sum(axis=0); v_pd"
   ]
  },
  {
   "cell_type": "markdown",
   "metadata": {},
   "source": [
    "# Point E\n",
    "Vector $P(T)$"
   ]
  },
  {
   "cell_type": "code",
   "execution_count": 10,
   "metadata": {},
   "outputs": [
    {
     "data": {
      "text/plain": [
       "array([0.14160606, 0.12303382, 0.17464229, 0.20242929, 0.09396047,\n",
       "       0.26432806])"
      ]
     },
     "execution_count": 10,
     "metadata": {},
     "output_type": "execute_result"
    }
   ],
   "source": [
    "v_pt = J_PTD.sum(axis=1); v_pt"
   ]
  },
  {
   "cell_type": "markdown",
   "metadata": {},
   "source": [
    "# Point F\n",
    "E[l] (the expected value of the random variable l corresponding to the length of a randomly chosen term)"
   ]
  },
  {
   "cell_type": "code",
   "execution_count": 11,
   "metadata": {},
   "outputs": [
    {
     "data": {
      "text/plain": [
       "'Esperanza es la sumatoria desde i=1 hasta n, de Xi*P(Xi)'"
      ]
     },
     "execution_count": 11,
     "metadata": {},
     "output_type": "execute_result"
    }
   ],
   "source": [
    "\"Esperanza es la sumatoria desde i=1 hasta n, de Xi*P(Xi)\""
   ]
  },
  {
   "cell_type": "code",
   "execution_count": 12,
   "metadata": {},
   "outputs": [
    {
     "data": {
      "text/plain": [
       "(array([[0.2173913 ],\n",
       "        [0.08695652],\n",
       "        [0.13043478],\n",
       "        [0.26086957],\n",
       "        [0.17391304],\n",
       "        [0.13043478]]), (6, 1))"
      ]
     },
     "execution_count": 12,
     "metadata": {},
     "output_type": "execute_result"
    }
   ],
   "source": [
    "N_L = L_a/L_a.sum(axis=0)\n",
    "N_L, N_L.shape"
   ]
  },
  {
   "cell_type": "code",
   "execution_count": 13,
   "metadata": {},
   "outputs": [
    {
     "data": {
      "text/plain": [
       "4.304347826086956"
      ]
     },
     "execution_count": 13,
     "metadata": {},
     "output_type": "execute_result"
    }
   ],
   "source": [
    "m_N_L = L_a*N_L\n",
    "E_L = sum(sum(m_N_L)); E_L"
   ]
  },
  {
   "cell_type": "markdown",
   "metadata": {},
   "source": [
    "# Point G\n",
    "Var(l) (the variance of l)"
   ]
  },
  {
   "cell_type": "code",
   "execution_count": 14,
   "metadata": {},
   "outputs": [
    {
     "data": {
      "text/plain": [
       "array([[0.1052026 ],\n",
       "       [0.46174077],\n",
       "       [0.22191173],\n",
       "       [0.75006164],\n",
       "       [0.01610915],\n",
       "       [0.22191173]])"
      ]
     },
     "execution_count": 14,
     "metadata": {},
     "output_type": "execute_result"
    }
   ],
   "source": [
    "var_a = (L_a-E_L)**2\n",
    "var_b = var_a*N_L; var_b"
   ]
  },
  {
   "cell_type": "code",
   "execution_count": 15,
   "metadata": {},
   "outputs": [
    {
     "data": {
      "text/plain": [
       "1.7769376181474479"
      ]
     },
     "execution_count": 15,
     "metadata": {},
     "output_type": "execute_result"
    }
   ],
   "source": [
    "var = sum(sum(var_b)); var"
   ]
  }
 ],
 "metadata": {
  "kernelspec": {
   "display_name": "Python 3",
   "language": "python",
   "name": "python3"
  },
  "language_info": {
   "codemirror_mode": {
    "name": "ipython",
    "version": 3
   },
   "file_extension": ".py",
   "mimetype": "text/x-python",
   "name": "python",
   "nbconvert_exporter": "python",
   "pygments_lexer": "ipython3",
   "version": "3.7.1"
  }
 },
 "nbformat": 4,
 "nbformat_minor": 2
}
